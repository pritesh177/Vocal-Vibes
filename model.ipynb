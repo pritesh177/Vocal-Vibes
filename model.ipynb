{
 "cells": [
  {
   "cell_type": "code",
   "execution_count": 1,
   "id": "ae524048",
   "metadata": {},
   "outputs": [],
   "source": [
    "import pandas as pd\n",
    "import numpy as np\n",
    "import os"
   ]
  },
  {
   "cell_type": "code",
   "execution_count": 2,
   "id": "54dc3f23",
   "metadata": {},
   "outputs": [],
   "source": [
    "import librosa"
   ]
  },
  {
   "cell_type": "code",
   "execution_count": 3,
   "id": "6da97b05",
   "metadata": {},
   "outputs": [],
   "source": [
    "\n",
    "Tess = r\"M:\\Final year project\\JPPY2213-Speech Emotion Recognition using Machine\\JPPY2213-Speech Emotion Recognition using Machine\\SOURCE CODE\\audio detection\\model\\Speech Emotion Dataset/\"\n"
   ]
  },
  {
   "cell_type": "code",
   "execution_count": 4,
   "id": "54ec02e1",
   "metadata": {},
   "outputs": [
    {
     "data": {
      "text/plain": [
       "'M:\\\\Final year project\\\\JPPY2213-Speech Emotion Recognition using Machine\\\\JPPY2213-Speech Emotion Recognition using Machine\\\\SOURCE CODE\\\\audio detection\\\\model\\\\Speech Emotion Dataset/'"
      ]
     },
     "execution_count": 4,
     "metadata": {},
     "output_type": "execute_result"
    }
   ],
   "source": [
    "Tess"
   ]
  },
  {
   "cell_type": "code",
   "execution_count": 5,
   "id": "abb0ffc2",
   "metadata": {},
   "outputs": [
    {
     "data": {
      "text/html": [
       "<div>\n",
       "<style scoped>\n",
       "    .dataframe tbody tr th:only-of-type {\n",
       "        vertical-align: middle;\n",
       "    }\n",
       "\n",
       "    .dataframe tbody tr th {\n",
       "        vertical-align: top;\n",
       "    }\n",
       "\n",
       "    .dataframe thead th {\n",
       "        text-align: right;\n",
       "    }\n",
       "</style>\n",
       "<table border=\"1\" class=\"dataframe\">\n",
       "  <thead>\n",
       "    <tr style=\"text-align: right;\">\n",
       "      <th></th>\n",
       "      <th>Emotions</th>\n",
       "      <th>Path</th>\n",
       "    </tr>\n",
       "  </thead>\n",
       "  <tbody>\n",
       "    <tr>\n",
       "      <th>0</th>\n",
       "      <td>angry</td>\n",
       "      <td>M:\\Final year project\\JPPY2213-Speech Emotion ...</td>\n",
       "    </tr>\n",
       "    <tr>\n",
       "      <th>1</th>\n",
       "      <td>angry</td>\n",
       "      <td>M:\\Final year project\\JPPY2213-Speech Emotion ...</td>\n",
       "    </tr>\n",
       "    <tr>\n",
       "      <th>2</th>\n",
       "      <td>angry</td>\n",
       "      <td>M:\\Final year project\\JPPY2213-Speech Emotion ...</td>\n",
       "    </tr>\n",
       "    <tr>\n",
       "      <th>3</th>\n",
       "      <td>angry</td>\n",
       "      <td>M:\\Final year project\\JPPY2213-Speech Emotion ...</td>\n",
       "    </tr>\n",
       "    <tr>\n",
       "      <th>4</th>\n",
       "      <td>angry</td>\n",
       "      <td>M:\\Final year project\\JPPY2213-Speech Emotion ...</td>\n",
       "    </tr>\n",
       "  </tbody>\n",
       "</table>\n",
       "</div>"
      ],
      "text/plain": [
       "  Emotions                                               Path\n",
       "0    angry  M:\\Final year project\\JPPY2213-Speech Emotion ...\n",
       "1    angry  M:\\Final year project\\JPPY2213-Speech Emotion ...\n",
       "2    angry  M:\\Final year project\\JPPY2213-Speech Emotion ...\n",
       "3    angry  M:\\Final year project\\JPPY2213-Speech Emotion ...\n",
       "4    angry  M:\\Final year project\\JPPY2213-Speech Emotion ..."
      ]
     },
     "execution_count": 5,
     "metadata": {},
     "output_type": "execute_result"
    }
   ],
   "source": [
    "tess_directory_list = os.listdir(Tess)\n",
    "\n",
    "file_emotion = []\n",
    "file_path = []\n",
    "\n",
    "for dir in tess_directory_list:\n",
    "    directories = os.listdir(Tess + dir)\n",
    "    for file in directories:\n",
    "        part = file.split('.')[0]\n",
    "        part = part.split('_')[2]\n",
    "        if part=='ps':\n",
    "            file_emotion.append('surprise')\n",
    "        else:\n",
    "            file_emotion.append(part)\n",
    "        file_path.append(Tess + dir + '/' + file)\n",
    "        \n",
    "# dataframe for emotion of files\n",
    "emotion_df = pd.DataFrame(file_emotion, columns=['Emotions'])\n",
    "\n",
    "# dataframe for path of files.\n",
    "path_df = pd.DataFrame(file_path, columns=['Path'])\n",
    "Tess_df = pd.concat([emotion_df, path_df], axis=1)\n",
    "Tess_df.head()"
   ]
  },
  {
   "cell_type": "code",
   "execution_count": 6,
   "id": "2657e5d2",
   "metadata": {},
   "outputs": [
    {
     "data": {
      "text/plain": [
       "angry       403\n",
       "happy       402\n",
       "disgust     401\n",
       "fear        401\n",
       "neutral     400\n",
       "surprise    400\n",
       "sad         400\n",
       "Name: Emotions, dtype: int64"
      ]
     },
     "execution_count": 6,
     "metadata": {},
     "output_type": "execute_result"
    }
   ],
   "source": [
    "Tess_df['Emotions'].value_counts()"
   ]
  },
  {
   "cell_type": "code",
   "execution_count": 7,
   "id": "1903d0ef",
   "metadata": {},
   "outputs": [],
   "source": [
    "def features_extractor(file):\n",
    "    audio, sample_rate = librosa.load(file, res_type='kaiser_fast') \n",
    "    mfccs_features = librosa.feature.mfcc(y=audio, sr=sample_rate, n_mfcc=40)\n",
    "    mfccs_scaled_features = np.mean(mfccs_features.T,axis=0)\n",
    "    \n",
    "    return mfccs_scaled_features"
   ]
  },
  {
   "cell_type": "code",
   "execution_count": 8,
   "id": "6ff9a12a",
   "metadata": {},
   "outputs": [
    {
     "name": "stdout",
     "output_type": "stream",
     "text": [
      "Requirement already satisfied: resampy in c:\\users\\pritesh\\appdata\\local\\programs\\python\\python310\\lib\\site-packages (0.4.2)\n",
      "Requirement already satisfied: numpy>=1.17 in c:\\users\\pritesh\\appdata\\local\\programs\\python\\python310\\lib\\site-packages (from resampy) (1.25.2)\n",
      "Requirement already satisfied: numba>=0.53 in c:\\users\\pritesh\\appdata\\local\\programs\\python\\python310\\lib\\site-packages (from resampy) (0.58.0)\n",
      "Requirement already satisfied: llvmlite<0.42,>=0.41.0dev0 in c:\\users\\pritesh\\appdata\\local\\programs\\python\\python310\\lib\\site-packages (from numba>=0.53->resampy) (0.41.0)\n"
     ]
    },
    {
     "name": "stderr",
     "output_type": "stream",
     "text": [
      "\n",
      "[notice] A new release of pip is available: 23.1.1 -> 23.3\n",
      "[notice] To update, run: python.exe -m pip install --upgrade pip\n"
     ]
    }
   ],
   "source": [
    "!pip3 install resampy\n"
   ]
  },
  {
   "cell_type": "code",
   "execution_count": 8,
   "id": "6d35c759",
   "metadata": {},
   "outputs": [
    {
     "name": "stderr",
     "output_type": "stream",
     "text": [
      "2807it [02:45, 16.98it/s]\n"
     ]
    }
   ],
   "source": [
    "import numpy as np\n",
    "from tqdm import tqdm\n",
    "### Now we iterate through every audio file and extract features \n",
    "### using Mel-Frequency Cepstral Coefficients\n",
    "extracted_features=[]\n",
    "for index_num,row in tqdm(Tess_df.iterrows()):\n",
    "    file_name = os.path.join(os.path.abspath(Tess),str(row[\"Path\"]))\n",
    "    final_class_labels=row[\"Emotions\"]\n",
    "    data=features_extractor(file_name)\n",
    "    extracted_features.append([data,final_class_labels])"
   ]
  },
  {
   "cell_type": "code",
   "execution_count": 9,
   "id": "98b93185",
   "metadata": {},
   "outputs": [
    {
     "data": {
      "text/html": [
       "<div>\n",
       "<style scoped>\n",
       "    .dataframe tbody tr th:only-of-type {\n",
       "        vertical-align: middle;\n",
       "    }\n",
       "\n",
       "    .dataframe tbody tr th {\n",
       "        vertical-align: top;\n",
       "    }\n",
       "\n",
       "    .dataframe thead th {\n",
       "        text-align: right;\n",
       "    }\n",
       "</style>\n",
       "<table border=\"1\" class=\"dataframe\">\n",
       "  <thead>\n",
       "    <tr style=\"text-align: right;\">\n",
       "      <th></th>\n",
       "      <th>Path</th>\n",
       "      <th>Emotions</th>\n",
       "    </tr>\n",
       "  </thead>\n",
       "  <tbody>\n",
       "    <tr>\n",
       "      <th>0</th>\n",
       "      <td>[-386.65387, 57.02423, -22.126987, -7.373469, ...</td>\n",
       "      <td>angry</td>\n",
       "    </tr>\n",
       "    <tr>\n",
       "      <th>1</th>\n",
       "      <td>[-99.995834, 111.12272, -32.330944, 17.878746,...</td>\n",
       "      <td>angry</td>\n",
       "    </tr>\n",
       "    <tr>\n",
       "      <th>2</th>\n",
       "      <td>[-447.8823, 70.02029, -7.251139, -15.752107, -...</td>\n",
       "      <td>angry</td>\n",
       "    </tr>\n",
       "    <tr>\n",
       "      <th>3</th>\n",
       "      <td>[-406.17514, 31.89866, -10.602405, 5.086764, -...</td>\n",
       "      <td>angry</td>\n",
       "    </tr>\n",
       "    <tr>\n",
       "      <th>4</th>\n",
       "      <td>[-387.20657, 57.649464, -16.744614, -8.857875,...</td>\n",
       "      <td>angry</td>\n",
       "    </tr>\n",
       "  </tbody>\n",
       "</table>\n",
       "</div>"
      ],
      "text/plain": [
       "                                                Path Emotions\n",
       "0  [-386.65387, 57.02423, -22.126987, -7.373469, ...    angry\n",
       "1  [-99.995834, 111.12272, -32.330944, 17.878746,...    angry\n",
       "2  [-447.8823, 70.02029, -7.251139, -15.752107, -...    angry\n",
       "3  [-406.17514, 31.89866, -10.602405, 5.086764, -...    angry\n",
       "4  [-387.20657, 57.649464, -16.744614, -8.857875,...    angry"
      ]
     },
     "execution_count": 9,
     "metadata": {},
     "output_type": "execute_result"
    }
   ],
   "source": [
    "extracted_features_df=pd.DataFrame(extracted_features,columns=['Path','Emotions'])\n",
    "extracted_features_df.head()\n",
    "# Storing the dataframe to pickle for further processing\n",
    "extracted_features_df.to_pickle(\"extracted_df.pkl\")\n",
    "extracted_features_df.head()"
   ]
  },
  {
   "cell_type": "code",
   "execution_count": 10,
   "id": "07cf10f5",
   "metadata": {},
   "outputs": [
    {
     "name": "stdout",
     "output_type": "stream",
     "text": [
      "[[-3.8665387e+02  5.7024231e+01 -2.2126987e+01 ...  7.4928312e+00\n",
      "   3.0416687e+00 -3.1780646e+00]\n",
      " [-9.9995834e+01  1.1112272e+02 -3.2330944e+01 ... -2.4465530e+00\n",
      "  -4.5736115e-02  6.9233334e-01]\n",
      " [-4.4788229e+02  7.0020287e+01 -7.2511392e+00 ...  8.5472670e+00\n",
      "   3.5690718e+00 -8.8721639e-01]\n",
      " ...\n",
      " [-3.7526379e+02  7.2433640e+01  3.1662104e+01 ...  3.4386234e+00\n",
      "   4.4365230e+00  3.5771644e+00]\n",
      " [-4.2672800e+02  7.4208549e+01  2.4606394e+01 ...  7.2482071e+00\n",
      "   1.0590129e+01  7.7258043e+00]\n",
      " [-4.1441348e+02  6.0110760e+01  2.6068558e+01 ...  2.6750808e+00\n",
      "   5.4071159e+00  3.5427551e+00]]\n",
      "['angry' 'angry' 'angry' ... 'sad' 'sad' 'sad']\n"
     ]
    }
   ],
   "source": [
    "final = pd.read_pickle(\"./extracted_df.pkl\")\n",
    "X = np.array(final[\"Path\"].tolist())\n",
    "y = np.array(final[\"Emotions\"].tolist())\n",
    "print(X)\n",
    "print(y)"
   ]
  },
  {
   "cell_type": "code",
   "execution_count": 11,
   "id": "66131e8a",
   "metadata": {},
   "outputs": [],
   "source": [
    "        import IPython.display as ipd\n",
    "        import librosa\n",
    "        import librosa.display\n",
    "        import pandas as pd\n",
    "        import os, time, warnings\n",
    "        import seaborn as sns\n",
    "        import numpy as np\n",
    "        from tqdm import tqdm\n",
    "        import matplotlib.pyplot as plt\n",
    "        from sklearn.model_selection import train_test_split\n",
    "        from sklearn.preprocessing import LabelEncoder\n",
    "        from tensorflow.keras.utils import to_categorical\n",
    "        from tensorflow.keras.models import Sequential\n",
    "        from tensorflow.keras.layers import (\n",
    "            Dense,\n",
    "            Conv1D,\n",
    "            MaxPooling1D,\n",
    "            BatchNormalization,\n",
    "            Dropout, \n",
    "            Flatten,\n",
    "            Conv2D,\n",
    "            MaxPool2D,\n",
    "        )"
   ]
  },
  {
   "cell_type": "code",
   "execution_count": 12,
   "id": "09d499c2",
   "metadata": {},
   "outputs": [
    {
     "data": {
      "text/plain": [
       "(2807, 7)"
      ]
     },
     "execution_count": 12,
     "metadata": {},
     "output_type": "execute_result"
    }
   ],
   "source": [
    "le = LabelEncoder()\n",
    "\n",
    "# transform each category with it's respected label\n",
    "Y = to_categorical(le.fit_transform(y))\n",
    "Y.shape"
   ]
  },
  {
   "cell_type": "code",
   "execution_count": 13,
   "id": "40e67a51",
   "metadata": {},
   "outputs": [
    {
     "name": "stdout",
     "output_type": "stream",
     "text": [
      "Number of training samples =  2526\n",
      "Number of testing samples =  281\n"
     ]
    }
   ],
   "source": [
    "X_train, X_test, y_train, y_test = train_test_split(\n",
    "    X, Y, test_size=0.1, random_state=42\n",
    ")\n",
    "\n",
    "# print the details\n",
    "print(\"Number of training samples = \", X_train.shape[0])\n",
    "print(\"Number of testing samples = \", X_test.shape[0])\n"
   ]
  },
  {
   "cell_type": "code",
   "execution_count": 14,
   "id": "2e6b3899",
   "metadata": {},
   "outputs": [
    {
     "name": "stdout",
     "output_type": "stream",
     "text": [
      "Model: \"sequential\"\n",
      "_________________________________________________________________\n",
      " Layer (type)                Output Shape              Param #   \n",
      "=================================================================\n",
      " dense (Dense)               (None, 1000)              41000     \n",
      "                                                                 \n",
      " dense_1 (Dense)             (None, 750)               750750    \n",
      "                                                                 \n",
      " dense_2 (Dense)             (None, 500)               375500    \n",
      "                                                                 \n",
      " dense_3 (Dense)             (None, 250)               125250    \n",
      "                                                                 \n",
      " dense_4 (Dense)             (None, 100)               25100     \n",
      "                                                                 \n",
      " dense_5 (Dense)             (None, 50)                5050      \n",
      "                                                                 \n",
      " dense_6 (Dense)             (None, 7)                 357       \n",
      "                                                                 \n",
      "=================================================================\n",
      "Total params: 1323007 (5.05 MB)\n",
      "Trainable params: 1323007 (5.05 MB)\n",
      "Non-trainable params: 0 (0.00 Byte)\n",
      "_________________________________________________________________\n"
     ]
    }
   ],
   "source": [
    "\n",
    "num_labels = Y.shape[1]\n",
    "ANN_Model = Sequential()\n",
    "ANN_Model.add(Dense(1000, activation=\"relu\", input_shape=(40,)))\n",
    "ANN_Model.add(Dense(750, activation=\"relu\"))\n",
    "ANN_Model.add(Dense(500, activation=\"relu\"))\n",
    "ANN_Model.add(Dense(250, activation=\"relu\"))\n",
    "ANN_Model.add(Dense(100, activation=\"relu\"))\n",
    "ANN_Model.add(Dense(50, activation=\"relu\"))\n",
    "ANN_Model.add(Dense(num_labels, activation=\"softmax\"))\n",
    "ANN_Model.summary()"
   ]
  },
  {
   "cell_type": "code",
   "execution_count": 15,
   "id": "acfb6c80",
   "metadata": {},
   "outputs": [],
   "source": [
    "ANN_Model.compile(loss='categorical_crossentropy',metrics=['accuracy'],optimizer='adam')\n"
   ]
  },
  {
   "cell_type": "code",
   "execution_count": 16,
   "id": "275abea1",
   "metadata": {},
   "outputs": [
    {
     "name": "stdout",
     "output_type": "stream",
     "text": [
      "Epoch 1/100\n",
      "79/79 [==============================] - 6s 39ms/step - loss: 2.5557 - accuracy: 0.4161 - val_loss: 0.6151 - val_accuracy: 0.8256\n",
      "Epoch 2/100\n",
      "79/79 [==============================] - 3s 33ms/step - loss: 0.4102 - accuracy: 0.8579 - val_loss: 0.1556 - val_accuracy: 0.9502\n",
      "Epoch 3/100\n",
      "79/79 [==============================] - 2s 32ms/step - loss: 0.2262 - accuracy: 0.9244 - val_loss: 0.1411 - val_accuracy: 0.9466\n",
      "Epoch 4/100\n",
      "79/79 [==============================] - 2s 31ms/step - loss: 0.1200 - accuracy: 0.9592 - val_loss: 0.0334 - val_accuracy: 0.9893\n",
      "Epoch 5/100\n",
      "79/79 [==============================] - 3s 32ms/step - loss: 0.0976 - accuracy: 0.9691 - val_loss: 0.0598 - val_accuracy: 0.9751\n",
      "Epoch 6/100\n",
      "79/79 [==============================] - 3s 34ms/step - loss: 0.0460 - accuracy: 0.9822 - val_loss: 0.0333 - val_accuracy: 0.9822\n",
      "Epoch 7/100\n",
      "79/79 [==============================] - 2s 30ms/step - loss: 0.0339 - accuracy: 0.9889 - val_loss: 0.0591 - val_accuracy: 0.9751\n",
      "Epoch 8/100\n",
      "79/79 [==============================] - 2s 30ms/step - loss: 0.0307 - accuracy: 0.9909 - val_loss: 0.0218 - val_accuracy: 0.9893\n",
      "Epoch 9/100\n",
      "79/79 [==============================] - 2s 31ms/step - loss: 0.0405 - accuracy: 0.9861 - val_loss: 0.0449 - val_accuracy: 0.9786\n",
      "Epoch 10/100\n",
      "79/79 [==============================] - 2s 28ms/step - loss: 0.0548 - accuracy: 0.9794 - val_loss: 0.0324 - val_accuracy: 0.9893\n",
      "Epoch 11/100\n",
      "79/79 [==============================] - 2s 29ms/step - loss: 0.0323 - accuracy: 0.9897 - val_loss: 0.0179 - val_accuracy: 0.9929\n",
      "Epoch 12/100\n",
      "79/79 [==============================] - 2s 29ms/step - loss: 0.0585 - accuracy: 0.9802 - val_loss: 0.0657 - val_accuracy: 0.9786\n",
      "Epoch 13/100\n",
      "79/79 [==============================] - 2s 29ms/step - loss: 0.0350 - accuracy: 0.9873 - val_loss: 0.0082 - val_accuracy: 0.9964\n",
      "Epoch 14/100\n",
      "79/79 [==============================] - 2s 28ms/step - loss: 0.0415 - accuracy: 0.9873 - val_loss: 0.0324 - val_accuracy: 0.9893\n",
      "Epoch 15/100\n",
      "79/79 [==============================] - 2s 29ms/step - loss: 0.0242 - accuracy: 0.9917 - val_loss: 0.0299 - val_accuracy: 0.9893\n",
      "Epoch 16/100\n",
      "79/79 [==============================] - 2s 29ms/step - loss: 0.0047 - accuracy: 0.9980 - val_loss: 0.0081 - val_accuracy: 0.9964\n",
      "Epoch 17/100\n",
      "79/79 [==============================] - 2s 31ms/step - loss: 0.0034 - accuracy: 0.9996 - val_loss: 0.0065 - val_accuracy: 0.9964\n",
      "Epoch 18/100\n",
      "79/79 [==============================] - 2s 30ms/step - loss: 0.0121 - accuracy: 0.9964 - val_loss: 0.0030 - val_accuracy: 1.0000\n",
      "Epoch 19/100\n",
      "79/79 [==============================] - 2s 30ms/step - loss: 0.0079 - accuracy: 0.9960 - val_loss: 0.0208 - val_accuracy: 0.9964\n",
      "Epoch 20/100\n",
      "79/79 [==============================] - 2s 30ms/step - loss: 0.0178 - accuracy: 0.9949 - val_loss: 0.0296 - val_accuracy: 0.9929\n",
      "Epoch 21/100\n",
      "79/79 [==============================] - 2s 30ms/step - loss: 0.0183 - accuracy: 0.9945 - val_loss: 0.0158 - val_accuracy: 0.9893\n",
      "Epoch 22/100\n",
      "79/79 [==============================] - 2s 30ms/step - loss: 0.0100 - accuracy: 0.9972 - val_loss: 0.0129 - val_accuracy: 0.9964\n",
      "Epoch 23/100\n",
      "79/79 [==============================] - 2s 31ms/step - loss: 0.0038 - accuracy: 0.9988 - val_loss: 0.0217 - val_accuracy: 0.9893\n",
      "Epoch 24/100\n",
      "79/79 [==============================] - 2s 30ms/step - loss: 0.0073 - accuracy: 0.9976 - val_loss: 0.0023 - val_accuracy: 1.0000\n",
      "Epoch 25/100\n",
      "79/79 [==============================] - 2s 30ms/step - loss: 0.0556 - accuracy: 0.9857 - val_loss: 0.0875 - val_accuracy: 0.9680\n",
      "Epoch 26/100\n",
      "79/79 [==============================] - 2s 30ms/step - loss: 0.0222 - accuracy: 0.9925 - val_loss: 0.0311 - val_accuracy: 0.9893\n",
      "Epoch 27/100\n",
      "79/79 [==============================] - 2s 30ms/step - loss: 0.0155 - accuracy: 0.9952 - val_loss: 0.0157 - val_accuracy: 0.9929\n",
      "Epoch 28/100\n",
      "79/79 [==============================] - 2s 29ms/step - loss: 0.0091 - accuracy: 0.9976 - val_loss: 0.0314 - val_accuracy: 0.9893\n",
      "Epoch 29/100\n",
      "79/79 [==============================] - 2s 30ms/step - loss: 0.0378 - accuracy: 0.9905 - val_loss: 0.0089 - val_accuracy: 0.9964\n",
      "Epoch 30/100\n",
      "79/79 [==============================] - 2s 29ms/step - loss: 0.0160 - accuracy: 0.9960 - val_loss: 0.0050 - val_accuracy: 1.0000\n",
      "Epoch 31/100\n",
      "79/79 [==============================] - 2s 31ms/step - loss: 0.0208 - accuracy: 0.9945 - val_loss: 0.0107 - val_accuracy: 0.9964\n",
      "Epoch 32/100\n",
      "79/79 [==============================] - 2s 30ms/step - loss: 7.0936e-04 - accuracy: 1.0000 - val_loss: 0.0098 - val_accuracy: 0.9964\n",
      "Epoch 33/100\n",
      "79/79 [==============================] - 2s 30ms/step - loss: 2.9991e-04 - accuracy: 1.0000 - val_loss: 7.1826e-04 - val_accuracy: 1.0000\n",
      "Epoch 34/100\n",
      "79/79 [==============================] - 2s 31ms/step - loss: 8.6657e-05 - accuracy: 1.0000 - val_loss: 1.6963e-04 - val_accuracy: 1.0000\n",
      "Epoch 35/100\n",
      "79/79 [==============================] - 2s 31ms/step - loss: 4.5525e-05 - accuracy: 1.0000 - val_loss: 0.0014 - val_accuracy: 1.0000\n",
      "Epoch 36/100\n",
      "79/79 [==============================] - 2s 29ms/step - loss: 1.4663e-05 - accuracy: 1.0000 - val_loss: 0.0023 - val_accuracy: 1.0000\n",
      "Epoch 37/100\n",
      "79/79 [==============================] - 2s 30ms/step - loss: 6.3244e-06 - accuracy: 1.0000 - val_loss: 5.3074e-04 - val_accuracy: 1.0000\n",
      "Epoch 38/100\n",
      "79/79 [==============================] - 2s 28ms/step - loss: 4.7138e-06 - accuracy: 1.0000 - val_loss: 0.0026 - val_accuracy: 0.9964\n",
      "Epoch 39/100\n",
      "79/79 [==============================] - 2s 29ms/step - loss: 3.6817e-06 - accuracy: 1.0000 - val_loss: 5.5907e-04 - val_accuracy: 1.0000\n",
      "Epoch 40/100\n",
      "79/79 [==============================] - 2s 30ms/step - loss: 2.6583e-06 - accuracy: 1.0000 - val_loss: 6.6280e-04 - val_accuracy: 1.0000\n",
      "Epoch 41/100\n",
      "79/79 [==============================] - 2s 30ms/step - loss: 2.0739e-06 - accuracy: 1.0000 - val_loss: 6.3735e-04 - val_accuracy: 1.0000\n",
      "Epoch 42/100\n",
      "79/79 [==============================] - 2s 29ms/step - loss: 1.7828e-06 - accuracy: 1.0000 - val_loss: 8.3207e-04 - val_accuracy: 1.0000\n",
      "Epoch 43/100\n",
      "79/79 [==============================] - 2s 29ms/step - loss: 1.5534e-06 - accuracy: 1.0000 - val_loss: 6.6162e-04 - val_accuracy: 1.0000\n",
      "Epoch 44/100\n",
      "79/79 [==============================] - 2s 30ms/step - loss: 1.3000e-06 - accuracy: 1.0000 - val_loss: 4.7303e-04 - val_accuracy: 1.0000\n",
      "Epoch 45/100\n",
      "79/79 [==============================] - 2s 29ms/step - loss: 1.1484e-06 - accuracy: 1.0000 - val_loss: 4.5488e-04 - val_accuracy: 1.0000\n",
      "Epoch 46/100\n",
      "79/79 [==============================] - 2s 30ms/step - loss: 1.0328e-06 - accuracy: 1.0000 - val_loss: 4.8711e-04 - val_accuracy: 1.0000\n",
      "Epoch 47/100\n",
      "79/79 [==============================] - 2s 29ms/step - loss: 1.0092e-06 - accuracy: 1.0000 - val_loss: 5.9809e-04 - val_accuracy: 1.0000\n",
      "Epoch 48/100\n",
      "79/79 [==============================] - 2s 29ms/step - loss: 8.3876e-07 - accuracy: 1.0000 - val_loss: 5.5930e-04 - val_accuracy: 1.0000\n",
      "Epoch 49/100\n",
      "79/79 [==============================] - 2s 29ms/step - loss: 7.6515e-07 - accuracy: 1.0000 - val_loss: 4.4446e-04 - val_accuracy: 1.0000\n",
      "Epoch 50/100\n",
      "79/79 [==============================] - 2s 29ms/step - loss: 6.9772e-07 - accuracy: 1.0000 - val_loss: 2.8664e-04 - val_accuracy: 1.0000\n",
      "Epoch 51/100\n",
      "79/79 [==============================] - 2s 30ms/step - loss: 6.5628e-07 - accuracy: 1.0000 - val_loss: 3.2969e-04 - val_accuracy: 1.0000\n",
      "Epoch 52/100\n",
      "79/79 [==============================] - 2s 29ms/step - loss: 5.7191e-07 - accuracy: 1.0000 - val_loss: 3.7326e-04 - val_accuracy: 1.0000\n",
      "Epoch 53/100\n",
      "79/79 [==============================] - 2s 30ms/step - loss: 5.3265e-07 - accuracy: 1.0000 - val_loss: 4.2437e-04 - val_accuracy: 1.0000\n",
      "Epoch 54/100\n",
      "79/79 [==============================] - 2s 30ms/step - loss: 5.0523e-07 - accuracy: 1.0000 - val_loss: 3.0834e-04 - val_accuracy: 1.0000\n",
      "Epoch 55/100\n",
      "79/79 [==============================] - 2s 29ms/step - loss: 5.1184e-07 - accuracy: 1.0000 - val_loss: 2.6099e-04 - val_accuracy: 1.0000\n",
      "Epoch 56/100\n",
      "79/79 [==============================] - 3s 33ms/step - loss: 4.1996e-07 - accuracy: 1.0000 - val_loss: 4.0797e-04 - val_accuracy: 1.0000\n",
      "Epoch 57/100\n"
     ]
    },
    {
     "name": "stdout",
     "output_type": "stream",
     "text": [
      "79/79 [==============================] - 2s 30ms/step - loss: 3.8150e-07 - accuracy: 1.0000 - val_loss: 2.4842e-04 - val_accuracy: 1.0000\n",
      "Epoch 58/100\n",
      "79/79 [==============================] - 2s 31ms/step - loss: 3.7385e-07 - accuracy: 1.0000 - val_loss: 3.2939e-04 - val_accuracy: 1.0000\n",
      "Epoch 59/100\n",
      "79/79 [==============================] - 2s 30ms/step - loss: 3.3483e-07 - accuracy: 1.0000 - val_loss: 3.0926e-04 - val_accuracy: 1.0000\n",
      "Epoch 60/100\n",
      "79/79 [==============================] - 2s 30ms/step - loss: 3.1477e-07 - accuracy: 1.0000 - val_loss: 2.3484e-04 - val_accuracy: 1.0000\n",
      "Epoch 61/100\n",
      "79/79 [==============================] - 2s 30ms/step - loss: 2.9755e-07 - accuracy: 1.0000 - val_loss: 3.0388e-04 - val_accuracy: 1.0000\n",
      "Epoch 62/100\n",
      "79/79 [==============================] - 2s 30ms/step - loss: 2.6829e-07 - accuracy: 1.0000 - val_loss: 2.5127e-04 - val_accuracy: 1.0000\n",
      "Epoch 63/100\n",
      "79/79 [==============================] - 2s 30ms/step - loss: 2.5380e-07 - accuracy: 1.0000 - val_loss: 2.4128e-04 - val_accuracy: 1.0000\n",
      "Epoch 64/100\n",
      "79/79 [==============================] - 2s 31ms/step - loss: 2.3322e-07 - accuracy: 1.0000 - val_loss: 2.4935e-04 - val_accuracy: 1.0000\n",
      "Epoch 65/100\n",
      "79/79 [==============================] - 2s 30ms/step - loss: 2.2733e-07 - accuracy: 1.0000 - val_loss: 2.1616e-04 - val_accuracy: 1.0000\n",
      "Epoch 66/100\n",
      "79/79 [==============================] - 2s 30ms/step - loss: 2.0194e-07 - accuracy: 1.0000 - val_loss: 1.6823e-04 - val_accuracy: 1.0000\n",
      "Epoch 67/100\n",
      "79/79 [==============================] - 2s 29ms/step - loss: 1.9302e-07 - accuracy: 1.0000 - val_loss: 1.7671e-04 - val_accuracy: 1.0000\n",
      "Epoch 68/100\n",
      "79/79 [==============================] - 2s 30ms/step - loss: 1.7367e-07 - accuracy: 1.0000 - val_loss: 1.9852e-04 - val_accuracy: 1.0000\n",
      "Epoch 69/100\n",
      "79/79 [==============================] - 2s 30ms/step - loss: 1.7579e-07 - accuracy: 1.0000 - val_loss: 2.7699e-04 - val_accuracy: 1.0000\n",
      "Epoch 70/100\n",
      "79/79 [==============================] - 2s 31ms/step - loss: 1.6329e-07 - accuracy: 1.0000 - val_loss: 1.0669e-04 - val_accuracy: 1.0000\n",
      "Epoch 71/100\n",
      "79/79 [==============================] - 2s 31ms/step - loss: 1.4979e-07 - accuracy: 1.0000 - val_loss: 2.0045e-04 - val_accuracy: 1.0000\n",
      "Epoch 72/100\n",
      "79/79 [==============================] - 2s 30ms/step - loss: 1.3761e-07 - accuracy: 1.0000 - val_loss: 1.2960e-04 - val_accuracy: 1.0000\n",
      "Epoch 73/100\n",
      "79/79 [==============================] - 2s 30ms/step - loss: 1.3582e-07 - accuracy: 1.0000 - val_loss: 1.4753e-04 - val_accuracy: 1.0000\n",
      "Epoch 74/100\n",
      "79/79 [==============================] - 2s 30ms/step - loss: 1.2501e-07 - accuracy: 1.0000 - val_loss: 1.2207e-04 - val_accuracy: 1.0000\n",
      "Epoch 75/100\n",
      "79/79 [==============================] - 2s 30ms/step - loss: 1.1251e-07 - accuracy: 1.0000 - val_loss: 1.1625e-04 - val_accuracy: 1.0000\n",
      "Epoch 76/100\n",
      "79/79 [==============================] - 2s 30ms/step - loss: 1.0784e-07 - accuracy: 1.0000 - val_loss: 1.0047e-04 - val_accuracy: 1.0000\n",
      "Epoch 77/100\n",
      "79/79 [==============================] - 2s 31ms/step - loss: 1.0175e-07 - accuracy: 1.0000 - val_loss: 9.1704e-05 - val_accuracy: 1.0000\n",
      "Epoch 78/100\n",
      "79/79 [==============================] - 2s 31ms/step - loss: 9.9293e-08 - accuracy: 1.0000 - val_loss: 9.6421e-05 - val_accuracy: 1.0000\n",
      "Epoch 79/100\n",
      "79/79 [==============================] - 2s 30ms/step - loss: 8.8297e-08 - accuracy: 1.0000 - val_loss: 8.0280e-05 - val_accuracy: 1.0000\n",
      "Epoch 80/100\n",
      "79/79 [==============================] - 2s 29ms/step - loss: 8.3248e-08 - accuracy: 1.0000 - val_loss: 8.4974e-05 - val_accuracy: 1.0000\n",
      "Epoch 81/100\n",
      "79/79 [==============================] - 2s 30ms/step - loss: 8.1455e-08 - accuracy: 1.0000 - val_loss: 8.2814e-05 - val_accuracy: 1.0000\n",
      "Epoch 82/100\n",
      "79/79 [==============================] - 2s 30ms/step - loss: 7.5084e-08 - accuracy: 1.0000 - val_loss: 6.7705e-05 - val_accuracy: 1.0000\n",
      "Epoch 83/100\n",
      "79/79 [==============================] - 2s 30ms/step - loss: 7.2535e-08 - accuracy: 1.0000 - val_loss: 7.4354e-05 - val_accuracy: 1.0000\n",
      "Epoch 84/100\n",
      "79/79 [==============================] - 2s 30ms/step - loss: 6.6400e-08 - accuracy: 1.0000 - val_loss: 7.3961e-05 - val_accuracy: 1.0000\n",
      "Epoch 85/100\n",
      "79/79 [==============================] - 2s 30ms/step - loss: 6.7580e-08 - accuracy: 1.0000 - val_loss: 8.8851e-05 - val_accuracy: 1.0000\n",
      "Epoch 86/100\n",
      "79/79 [==============================] - 2s 29ms/step - loss: 6.2153e-08 - accuracy: 1.0000 - val_loss: 6.6244e-05 - val_accuracy: 1.0000\n",
      "Epoch 87/100\n",
      "79/79 [==============================] - 3s 32ms/step - loss: 5.6584e-08 - accuracy: 1.0000 - val_loss: 4.6530e-05 - val_accuracy: 1.0000\n",
      "Epoch 88/100\n",
      "79/79 [==============================] - 2s 30ms/step - loss: 5.5640e-08 - accuracy: 1.0000 - val_loss: 7.9373e-05 - val_accuracy: 1.0000\n",
      "Epoch 89/100\n",
      "79/79 [==============================] - 2s 30ms/step - loss: 5.2384e-08 - accuracy: 1.0000 - val_loss: 5.3590e-05 - val_accuracy: 1.0000\n",
      "Epoch 90/100\n",
      "79/79 [==============================] - 2s 30ms/step - loss: 4.9883e-08 - accuracy: 1.0000 - val_loss: 6.9819e-05 - val_accuracy: 1.0000\n",
      "Epoch 91/100\n",
      "79/79 [==============================] - 2s 30ms/step - loss: 4.7382e-08 - accuracy: 1.0000 - val_loss: 5.1901e-05 - val_accuracy: 1.0000\n",
      "Epoch 92/100\n",
      "79/79 [==============================] - 2s 30ms/step - loss: 4.5305e-08 - accuracy: 1.0000 - val_loss: 5.7384e-05 - val_accuracy: 1.0000\n",
      "Epoch 93/100\n",
      "79/79 [==============================] - 2s 30ms/step - loss: 4.4456e-08 - accuracy: 1.0000 - val_loss: 7.5608e-05 - val_accuracy: 1.0000\n",
      "Epoch 94/100\n",
      "79/79 [==============================] - 2s 30ms/step - loss: 4.2709e-08 - accuracy: 1.0000 - val_loss: 4.6579e-05 - val_accuracy: 1.0000\n",
      "Epoch 95/100\n",
      "79/79 [==============================] - 2s 31ms/step - loss: 3.8698e-08 - accuracy: 1.0000 - val_loss: 3.4812e-05 - val_accuracy: 1.0000\n",
      "Epoch 96/100\n",
      "79/79 [==============================] - 2s 30ms/step - loss: 3.9689e-08 - accuracy: 1.0000 - val_loss: 5.7455e-05 - val_accuracy: 1.0000\n",
      "Epoch 97/100\n",
      "79/79 [==============================] - 2s 29ms/step - loss: 3.6810e-08 - accuracy: 1.0000 - val_loss: 5.2938e-05 - val_accuracy: 1.0000\n",
      "Epoch 98/100\n",
      "79/79 [==============================] - 2s 31ms/step - loss: 3.5395e-08 - accuracy: 1.0000 - val_loss: 4.4263e-05 - val_accuracy: 1.0000\n",
      "Epoch 99/100\n",
      "79/79 [==============================] - 2s 30ms/step - loss: 3.3601e-08 - accuracy: 1.0000 - val_loss: 3.3578e-05 - val_accuracy: 1.0000\n",
      "Epoch 100/100\n",
      "79/79 [==============================] - 2s 30ms/step - loss: 3.3365e-08 - accuracy: 1.0000 - val_loss: 5.4793e-05 - val_accuracy: 1.0000\n",
      "ANN Model Saved\n"
     ]
    },
    {
     "name": "stderr",
     "output_type": "stream",
     "text": [
      "C:\\Users\\PRITESH\\AppData\\Local\\Programs\\Python\\Python310\\lib\\site-packages\\keras\\src\\engine\\training.py:3079: UserWarning: You are saving your model as an HDF5 file via `model.save()`. This file format is considered legacy. We recommend using instead the native Keras format, e.g. `model.save('my_model.keras')`.\n",
      "  saving_api.save_model(\n"
     ]
    }
   ],
   "source": [
    "num_epochs = 100\n",
    "num_batch_size = 32\n",
    "\n",
    "t0 = time.time()\n",
    "\n",
    "history = ANN_Model.fit(\n",
    "    X_train,\n",
    "    y_train,\n",
    "    batch_size=num_batch_size,\n",
    "    epochs=num_epochs,\n",
    "    validation_data=(X_test, y_test),\n",
    ")\n",
    "\n",
    "ANN_Model.save(\"Model1.h5\")\n",
    "print(\"ANN Model Saved\")\n"
   ]
  },
  {
   "cell_type": "code",
   "execution_count": null,
   "id": "eef08250-5ec7-4c96-939f-67a696a62ddc",
   "metadata": {},
   "outputs": [],
   "source": []
  },
  {
   "cell_type": "code",
   "execution_count": 17,
   "id": "e2602ce4",
   "metadata": {},
   "outputs": [
    {
     "data": {
      "image/png": "[encoded data removed]",
      "text/plain": [
       "<Figure size 800x800 with 2 Axes>"
      ]
     },
     "metadata": {},
     "output_type": "display_data"
    }
   ],
   "source": [
    "acc = [0.] + history.history['accuracy']\n",
    "val_acc = [0.] + history.history['val_accuracy']\n",
    "\n",
    "loss = history.history['loss']\n",
    "val_loss = history.history['val_loss']\n",
    "\n",
    "plt.figure(figsize=(8, 8))\n",
    "plt.subplot(2, 1, 1)\n",
    "plt.plot(acc, label='Training Accuracy')\n",
    "plt.plot(val_acc, label='Validation Accuracy')\n",
    "plt.legend(loc='lower right')\n",
    "plt.ylabel('Accuracy')\n",
    "plt.title('Training and Validation Accuracy')\n",
    "\n",
    "plt.subplot(2, 1, 2)\n",
    "plt.plot(loss, label='Training Loss')\n",
    "plt.plot(val_loss, label='Validation Loss')\n",
    "plt.legend(loc='upper right')\n",
    "plt.ylabel('Cross Entropy')\n",
    "plt.title('Training and Validation Loss')\n",
    "plt.xlabel('epoch')\n",
    "plt.show()"
   ]
  },
  {
   "cell_type": "code",
   "execution_count": 18,
   "id": "7cb964ee-edf1-4d08-8682-1b6d5d460196",
   "metadata": {},
   "outputs": [
    {
     "data": {
      "text/plain": [
       "array(['angry', 'disgust', 'fear', 'happy', 'neutral', 'surprise', 'sad'],\n",
       "      dtype=object)"
      ]
     },
     "execution_count": 18,
     "metadata": {},
     "output_type": "execute_result"
    }
   ],
   "source": [
    "emotion_names=extracted_features_df['Emotions'].unique()\n",
    "emotion_names"
   ]
  },
  {
   "cell_type": "code",
   "execution_count": 19,
   "id": "048d61d4-1fb7-4030-bf59-4216db72a38a",
   "metadata": {},
   "outputs": [
    {
     "name": "stdout",
     "output_type": "stream",
     "text": [
      "9/9 [==============================] - 0s 9ms/step\n"
     ]
    },
    {
     "data": {
      "text/plain": [
       "array([4, 5, 0, 6, 2, 3, 0, 0, 4, 5, 4, 4, 6, 1, 2, 4, 0, 1, 5, 4, 2, 0,\n",
       "       3, 4, 4, 0, 2, 2, 3, 1, 2, 2, 4, 2, 3, 0, 4, 6, 2, 1, 2, 6, 5, 4,\n",
       "       6, 0, 6, 3, 1, 6, 2, 1, 3, 5, 1, 3, 1, 4, 3, 6, 4, 1, 0, 6, 5, 0,\n",
       "       6, 0, 4, 0, 1, 1, 3, 4, 2, 0, 1, 4, 1, 1, 0, 6, 0, 5, 0, 2, 3, 1,\n",
       "       5, 4, 1, 5, 5, 5, 0, 6, 5, 4, 3, 4, 1, 2, 0, 2, 6, 5, 1, 1, 4, 2,\n",
       "       3, 2, 4, 3, 1, 2, 0, 1, 4, 6, 3, 0, 1, 0, 3, 6, 6, 6, 2, 2, 1, 3,\n",
       "       6, 5, 0, 3, 0, 6, 0, 5, 2, 0, 1, 0, 1, 0, 5, 0, 2, 4, 2, 3, 2, 5,\n",
       "       1, 3, 6, 2, 4, 2, 5, 5, 5, 3, 5, 2, 0, 4, 0, 0, 3, 1, 4, 2, 5, 4,\n",
       "       3, 2, 0, 2, 0, 3, 5, 1, 2, 1, 4, 4, 5, 5, 2, 4, 2, 0, 1, 4, 6, 6,\n",
       "       0, 2, 1, 4, 2, 1, 4, 0, 5, 3, 1, 0, 3, 0, 6, 2, 5, 2, 0, 3, 0, 1,\n",
       "       1, 4, 2, 5, 2, 5, 5, 3, 2, 6, 4, 0, 5, 0, 4, 6, 5, 3, 3, 3, 3, 5,\n",
       "       4, 1, 4, 5, 5, 1, 4, 4, 2, 4, 5, 3, 6, 6, 1, 4, 2, 1, 2, 5, 3, 4,\n",
       "       3, 1, 1, 6, 2, 0, 4, 4, 2, 2, 5, 2, 5, 0, 2, 1, 6], dtype=int64)"
      ]
     },
     "execution_count": 19,
     "metadata": {},
     "output_type": "execute_result"
    }
   ],
   "source": [
    "y_pred = ANN_Model.predict(X_test)\n",
    "y_pred = np.argmax(y_pred, axis=1)\n",
    "y_pred"
   ]
  },
  {
   "cell_type": "code",
   "execution_count": 20,
   "id": "bfc9aeb9-4769-4f3d-a572-fd209129f0c1",
   "metadata": {},
   "outputs": [
    {
     "data": {
      "text/plain": [
       "array([4, 5, 0, 6, 2, 3, 0, 0, 4, 5, 4, 4, 6, 1, 2, 4, 0, 1, 5, 4, 2, 0,\n",
       "       3, 4, 4, 0, 2, 2, 3, 1, 2, 2, 4, 2, 3, 0, 4, 6, 2, 1, 2, 6, 5, 4,\n",
       "       6, 0, 6, 3, 1, 6, 2, 1, 3, 5, 1, 3, 1, 4, 3, 6, 4, 1, 0, 6, 5, 0,\n",
       "       6, 0, 4, 0, 1, 1, 3, 4, 2, 0, 1, 4, 1, 1, 0, 6, 0, 5, 0, 2, 3, 1,\n",
       "       5, 4, 1, 5, 5, 5, 0, 6, 5, 4, 3, 4, 1, 2, 0, 2, 6, 5, 1, 1, 4, 2,\n",
       "       3, 2, 4, 3, 1, 2, 0, 1, 4, 6, 3, 0, 1, 0, 3, 6, 6, 6, 2, 2, 1, 3,\n",
       "       6, 5, 0, 3, 0, 6, 0, 5, 2, 0, 1, 0, 1, 0, 5, 0, 2, 4, 2, 3, 2, 5,\n",
       "       1, 3, 6, 2, 4, 2, 5, 5, 5, 3, 5, 2, 0, 4, 0, 0, 3, 1, 4, 2, 5, 4,\n",
       "       3, 2, 0, 2, 0, 3, 5, 1, 2, 1, 4, 4, 5, 5, 2, 4, 2, 0, 1, 4, 6, 6,\n",
       "       0, 2, 1, 4, 2, 1, 4, 0, 5, 3, 1, 0, 3, 0, 6, 2, 5, 2, 0, 3, 0, 1,\n",
       "       1, 4, 2, 5, 2, 5, 5, 3, 2, 6, 4, 0, 5, 0, 4, 6, 5, 3, 3, 3, 3, 5,\n",
       "       4, 1, 4, 5, 5, 1, 4, 4, 2, 4, 5, 3, 6, 6, 1, 4, 2, 1, 2, 5, 3, 4,\n",
       "       3, 1, 1, 6, 2, 0, 4, 4, 2, 2, 5, 2, 5, 0, 2, 1, 6], dtype=int64)"
      ]
     },
     "execution_count": 20,
     "metadata": {},
     "output_type": "execute_result"
    }
   ],
   "source": [
    "y_check=np.argmax(y_test,axis=1)\n",
    "y_check"
   ]
  },
  {
   "cell_type": "code",
   "execution_count": 21,
   "id": "16a23b8f-d6c9-4a57-8163-27e96dad09e2",
   "metadata": {},
   "outputs": [
    {
     "name": "stdout",
     "output_type": "stream",
     "text": [
      "Test Loss: 5.479307583300397e-05\n",
      "Test Accuracy: 1.0\n"
     ]
    }
   ],
   "source": [
    "loss,accuracy=ANN_Model.evaluate(X_test,y_test,verbose=0)\n",
    "print(f'Test Loss: {loss}')\n",
    "print(f'Test Accuracy: {accuracy}')"
   ]
  },
  {
   "cell_type": "code",
   "execution_count": 23,
   "id": "62ea95ce-f064-41bb-aa36-7887953492cc",
   "metadata": {},
   "outputs": [
    {
     "data": {
      "image/png": "[encoded data removed]",
      "text/plain": [
       "<Figure size 1200x700 with 2 Axes>"
      ]
     },
     "metadata": {},
     "output_type": "display_data"
    }
   ],
   "source": [
    "from sklearn.metrics import confusion_matrix\n",
    "conf=confusion_matrix(y_check,y_pred)\n",
    "cm=pd.DataFrame(\n",
    "    conf,index=[i for i in emotion_names],\n",
    "    columns=[i for i in emotion_names]\n",
    ")\n",
    "plt.figure(figsize=(12,7))\n",
    "ax=sns.heatmap(cm,annot=True,fmt='d')\n",
    "ax.set_title(f'confusion matrix for model ')\n",
    "plt.show()"
   ]
  },
  {
   "cell_type": "code",
   "execution_count": 24,
   "id": "e4c0d6f7-7269-4aa9-a6f3-41bf23b1fdcd",
   "metadata": {},
   "outputs": [
    {
     "name": "stdout",
     "output_type": "stream",
     "text": [
      "Model Confusion Matrix\n",
      "               precision    recall  f1-score   support\n",
      "\n",
      "       angry       1.00      1.00      1.00        44\n",
      "     disgust       1.00      1.00      1.00        42\n",
      "        fear       1.00      1.00      1.00        48\n",
      "       happy       1.00      1.00      1.00        34\n",
      "     neutral       1.00      1.00      1.00        45\n",
      "    surprise       1.00      1.00      1.00        39\n",
      "         sad       1.00      1.00      1.00        29\n",
      "\n",
      "    accuracy                           1.00       281\n",
      "   macro avg       1.00      1.00      1.00       281\n",
      "weighted avg       1.00      1.00      1.00       281\n",
      "\n"
     ]
    }
   ],
   "source": [
    "from sklearn.metrics import classification_report\n",
    "print(f'Model Confusion Matrix\\n',classification_report(y_check,y_pred,target_names=emotion_names))"
   ]
  },
  {
   "cell_type": "code",
   "execution_count": null,
   "id": "7d97be27-bcb0-43b9-9c96-54b09e65806e",
   "metadata": {},
   "outputs": [],
   "source": []
  }
 ],
 "metadata": {
  "kernelspec": {
   "display_name": "Python 3 (ipykernel)",
   "language": "python",
   "name": "python3"
  },
  "language_info": {
   "codemirror_mode": {
    "name": "ipython",
    "version": 3
   },
   "file_extension": ".py",
   "mimetype": "text/x-python",
   "name": "python",
   "nbconvert_exporter": "python",
   "pygments_lexer": "ipython3",
   "version": "3.10.5"
  }
 },
 "nbformat": 4,
 "nbformat_minor": 5
}
